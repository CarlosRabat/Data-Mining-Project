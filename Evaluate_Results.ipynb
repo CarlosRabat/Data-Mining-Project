{
 "cells": [
  {
   "cell_type": "markdown",
   "metadata": {},
   "source": [
    "# Combines all the trees to evaluate Results"
   ]
  },
  {
   "cell_type": "markdown",
   "metadata": {},
   "source": [
    "## Load the Dataset"
   ]
  },
  {
   "cell_type": "code",
   "execution_count": null,
   "metadata": {},
   "outputs": [],
   "source": [
    "import numpy as np\n",
    "\n",
    "file_path = 'Skin_NonSkin 2.txt'\n",
    "\n",
    "# Load the data\n",
    "data = np.loadtxt(file_path, delimiter='\\t')\n",
    "\n",
    "# Split the data into features and target variable\n",
    "X = data[:, :-1]\n",
    "y = data[:, -1].astype(int) \n",
    "y = y - 1"
   ]
  },
  {
   "cell_type": "markdown",
   "metadata": {},
   "source": [
    "## Evaluate the Models "
   ]
  },
  {
   "cell_type": "code",
   "execution_count": null,
   "metadata": {},
   "outputs": [],
   "source": [
    "#Initialize the Model\n",
    "\n",
    "EFDT_model = EFDT()\n",
    "HAT_model = HAT()\n",
    "\n",
    "#Initialize variables\n",
    "EFDT_errors_count = 0\n",
    "EFDT_error_rates = []\n",
    "HAT_errors_count = 0\n",
    "HAT_error_rates = []\n",
    "\n",
    "for idx in range(len(y)):\n",
    "    \n",
    "    #Prediction on both Models\n",
    "    EFDT_pred = EFDT_model.predict(X[idx])\n",
    "    HAT_pred = HAT_model.predict(X[idx])\n",
    "    \n",
    "    \n",
    "    #Check the accruracy of the models\n",
    "    if EFDT_pred != y[idx]:\n",
    "        EFDT_errors_count += 1\n",
    "        \n",
    "    if HAT_pred != y[idx]:\n",
    "        HAT_errors_count += 1\n",
    "        \n",
    "    # Calculate Error Rate\n",
    "    if idx > 10000:\n",
    "        EFDT_error_rate = EFDT_errors_count / (idx + 1)\n",
    "        EFDT_error_rates.append([idx, EFDT_error_rate])\n",
    "        \n",
    "        HAT_error_rate = HAT_errors_count / (idx + 1)\n",
    "        HAT_error_rates.append([idx, HAT_error_rate])\n",
    "    \n",
    "    # Print Every 10000 Iterations\n",
    "    if idx % 10000 == 0:\n",
    "        print(f'Instance: {idx}')\n",
    "    \n",
    "    # Fit the data point into the tree\n",
    "    EFDT_model._fit_single(X[idx], y[idx])\n",
    "    HAT_model._fit_single(X[idx], y[idx])"
   ]
  },
  {
   "cell_type": "markdown",
   "metadata": {},
   "source": [
    "## Display the Results"
   ]
  },
  {
   "cell_type": "code",
   "execution_count": null,
   "metadata": {},
   "outputs": [],
   "source": [
    "import matplotlib.pyplot as plt\n",
    "\n",
    "# Splitting the list into two lists, idxs and errors\n",
    "EFDT_idxs, EFDT_errors = zip(*EFDT_error_rates)\n",
    "HAT_idxs, HAT_errors = zip(*HAT_error_rates)\n",
    "\n",
    "# Plotting\n",
    "plt.figure(figsize=(10, 6))  \n",
    "plt.plot(EFDT_idxs, EFDT_errors, marker='o', linestyle='-', color='b') \n",
    "plt.plot(HAT_idxs, HAT_errors, marker='o', linestyle='-', color='g') \n",
    "plt.title('Error Rate Over Time')\n",
    "plt.xlabel('Index (or Time)')\n",
    "plt.ylabel('Error Rate')\n",
    "plt.grid(True)  # Optional: Adds a grid for easier reading\n",
    "plt.show()"
   ]
  }
 ],
 "metadata": {
  "kernelspec": {
   "display_name": ".venv",
   "language": "python",
   "name": "python3"
  },
  "language_info": {
   "name": "python",
   "version": "3.11.3"
  }
 },
 "nbformat": 4,
 "nbformat_minor": 2
}
