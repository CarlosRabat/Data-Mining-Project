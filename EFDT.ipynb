{
 "cells": [
  {
   "cell_type": "markdown",
   "metadata": {},
   "source": [
    "# Extremely Fast Decision Tree Implementation"
   ]
  },
  {
   "cell_type": "code",
   "execution_count": 5,
   "metadata": {},
   "outputs": [],
   "source": [
    "import numpy as np\n",
    "\n",
    "class Node:\n",
    "    def __init__(self, is_leaf=True, prediction=None):\n",
    "        self.is_leaf = is_leaf\n",
    "        self.prediction = prediction\n",
    "        self.split_feature = None\n",
    "        self.split_value = None\n",
    "        self.children = {}\n",
    "        self.class_counts = np.zeros(2)  # For binary classification\n",
    "\n",
    "def hoeffding_bound(R, n, delta=0.05):\n",
    "    return np.sqrt((R**2 * np.log(1/delta)) / (2 * n))\n",
    "\n",
    "def best_split(data, labels):\n",
    "    features = data.shape[1]\n",
    "    best_split_feature = None\n",
    "    best_split_value = None\n",
    "    best_split_score = -np.inf\n",
    "    n = len(data)\n",
    "    \n",
    "    for feature in range(features):\n",
    "        values = np.sort(np.unique(data[:, feature]))\n",
    "        for i in range(len(values) - 1):\n",
    "            split_value = (values[i] + values[i+1]) / 2\n",
    "            left_mask = data[:, feature] <= split_value\n",
    "            right_mask = ~left_mask\n",
    "            \n",
    "            left_count = np.bincount(labels[left_mask], minlength=2)\n",
    "            right_count = np.bincount(labels[right_mask], minlength=2)\n",
    "            score = -np.sum(left_count**2) / np.sum(left_count) - np.sum(right_count**2) / np.sum(right_count)\n",
    "            \n",
    "            if score > best_split_score:\n",
    "                best_split_feature = feature\n",
    "                best_split_value = split_value\n",
    "                best_split_score = score\n",
    "                \n",
    "    return best_split_feature, best_split_value\n",
    "\n",
    "class EFDT:\n",
    "    def __init__(self, delta=0.05):\n",
    "        self.root = Node(is_leaf=True, prediction=0)\n",
    "        self.delta = delta\n",
    "    \n",
    "    def fit(self, X, y):\n",
    "        #Adjust to handle 0 and 1\n",
    "        y_adjusted = y - 1\n",
    "\n",
    "        for xi, yi in zip(X, y_adjusted):\n",
    "            self._fit_single(xi, yi)\n",
    "    \n",
    "    def _fit_single(self, x, y):\n",
    "        node = self.root\n",
    "        while not node.is_leaf:\n",
    "            if x[node.split_feature] <= node.split_value:\n",
    "                node = node.children['left']\n",
    "            else:\n",
    "                node = node.children['right']\n",
    "        \n",
    "        node.class_counts[y] += 1\n",
    "        total = np.sum(node.class_counts)\n",
    "        node.prediction = np.argmax(node.class_counts)\n",
    "        \n",
    "        if total > 20:  # Arbitrary threshold to start considering splits\n",
    "            self._attempt_to_split(node, x, y)\n",
    "    \n",
    "    def _attempt_to_split(self, node, x, y):\n",
    "        X_sub = np.array([x])  # Placeholder for actual subset for the node\n",
    "        y_sub = np.array([y])  # Placeholder for actual subset labels for the node\n",
    "        \n",
    "        feature, value = best_split(X_sub, y_sub)\n",
    "        if feature is not None:\n",
    "            R = 1  # Binary classification\n",
    "            n = np.sum(node.class_counts)\n",
    "            epsilon = hoeffding_bound(R, n, self.delta)\n",
    "            \n",
    "            # Check if the split is significant\n",
    "            if epsilon < 0.1: \n",
    "                node.is_leaf = False\n",
    "                node.split_feature = feature\n",
    "                node.split_value = value\n",
    "                node.children['left'] = Node(is_leaf=True, prediction=np.argmax(node.class_counts))\n",
    "                node.children['right'] = Node(is_leaf=True, prediction=np.argmax(node.class_counts))\n",
    "    \n",
    "    def predict(self, X):\n",
    "        preds = []\n",
    "        for x in X:\n",
    "            node = self.root\n",
    "            while not node.is_leaf:\n",
    "                if x[node.split_feature] <= node.split_value:\n",
    "                    node = node.children['left']\n",
    "                else:\n",
    "                    node = node.children['right']\n",
    "                    \n",
    "            # Turn it back to 1 and 2\n",
    "            preds.append(node.prediction + 1)\n",
    "        return np.array(preds)\n",
    "\n"
   ]
  },
  {
   "cell_type": "markdown",
   "metadata": {},
   "source": [
    "## Load the Dataset"
   ]
  },
  {
   "cell_type": "code",
   "execution_count": 6,
   "metadata": {},
   "outputs": [],
   "source": [
    "import numpy as np\n",
    "\n",
    "# Assuming your file is named 'data.txt' and located in the current directory\n",
    "file_path = 'Skin_NonSkin 2.txt'\n",
    "\n",
    "# Load the data\n",
    "data = np.loadtxt(file_path, delimiter='\\t')\n",
    "\n",
    "# Split the data into features and target variable\n",
    "X = data[:, :-1]\n",
    "y = data[:, -1].astype(int) \n",
    "\n"
   ]
  },
  {
   "cell_type": "markdown",
   "metadata": {},
   "source": [
    "## Evaluate the Results"
   ]
  },
  {
   "cell_type": "code",
   "execution_count": 7,
   "metadata": {},
   "outputs": [
    {
     "name": "stdout",
     "output_type": "stream",
     "text": [
      "Accuracy: 79.25%\n"
     ]
    }
   ],
   "source": [
    "from sklearn.metrics import accuracy_score\n",
    "\n",
    "model = EFDT()\n",
    "model.fit(X, y)\n",
    "predictions = model.predict(X)\n",
    "actual_labels = y\n",
    "\n",
    "# Calculate accuracy\n",
    "accuracy = accuracy_score(actual_labels, predictions)\n",
    "\n",
    "print(f'Accuracy: {accuracy * 100:.2f}%')\n"
   ]
  }
 ],
 "metadata": {
  "kernelspec": {
   "display_name": ".venv",
   "language": "python",
   "name": "python3"
  },
  "language_info": {
   "codemirror_mode": {
    "name": "ipython",
    "version": 3
   },
   "file_extension": ".py",
   "mimetype": "text/x-python",
   "name": "python",
   "nbconvert_exporter": "python",
   "pygments_lexer": "ipython3",
   "version": "3.11.3"
  }
 },
 "nbformat": 4,
 "nbformat_minor": 2
}
