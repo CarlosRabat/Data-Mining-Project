{
 "cells": [
  {
   "cell_type": "markdown",
   "metadata": {},
   "source": [
    "# Combines all the trees to evaluate Results"
   ]
  },
  {
   "cell_type": "markdown",
   "metadata": {},
   "source": [
    "## Load the Dataset"
   ]
  },
  {
   "cell_type": "code",
   "execution_count": 1,
   "metadata": {},
   "outputs": [],
   "source": [
    "import numpy as np\n",
    "\n",
    "file_path = 'Skin_Data/Skin_NonSkin 2.txt'\n",
    "\n",
    "# Load the data\n",
    "data = np.loadtxt(file_path, delimiter='\\t')\n",
    "\n",
    "# Split the data into features and target variable\n",
    "X = data[:, :-1]\n",
    "y = data[:, -1].astype(int) \n",
    "y = y - 1"
   ]
  },
  {
   "cell_type": "markdown",
   "metadata": {},
   "source": [
    "## Evaluate the Models "
   ]
  },
  {
   "cell_type": "code",
   "execution_count": 2,
   "metadata": {},
   "outputs": [
    {
     "name": "stdout",
     "output_type": "stream",
     "text": [
      "Instance: 0\n"
     ]
    },
    {
     "ename": "AttributeError",
     "evalue": "'HAT' object has no attribute '_fit_single'",
     "output_type": "error",
     "traceback": [
      "\u001b[0;31m---------------------------------------------------------------------------\u001b[0m",
      "\u001b[0;31mAttributeError\u001b[0m                            Traceback (most recent call last)",
      "Cell \u001b[0;32mIn[2], line 54\u001b[0m\n\u001b[1;32m     52\u001b[0m \u001b[38;5;66;03m# Fit the data point into the tree\u001b[39;00m\n\u001b[1;32m     53\u001b[0m EFDT_model\u001b[38;5;241m.\u001b[39m_fit_single(X[idx], y[idx])\n\u001b[0;32m---> 54\u001b[0m \u001b[43mHAT_model\u001b[49m\u001b[38;5;241;43m.\u001b[39;49m\u001b[43m_fit_single\u001b[49m(X[idx], y[idx])\n\u001b[1;32m     55\u001b[0m EFHAT_model\u001b[38;5;241m.\u001b[39m_fit_single(X[idx], y[idx])\n",
      "\u001b[0;31mAttributeError\u001b[0m: 'HAT' object has no attribute '_fit_single'"
     ]
    }
   ],
   "source": [
    "#Initialize the Model\n",
    "from all_trees import EFDT, HAT, EFHAT\n",
    "\n",
    "EFDT_model = EFDT()\n",
    "HAT_model = HAT()\n",
    "EFHAT_model = EFHAT()\n",
    "\n",
    "\n",
    "#Initialize variables\n",
    "EFDT_errors_count = 0\n",
    "EFDT_error_rates = []\n",
    "\n",
    "HAT_errors_count = 0\n",
    "HAT_error_rates = []\n",
    "\n",
    "EFHAT_errors_count = 0\n",
    "EFHAT_error_rates = []\n",
    "\n",
    "for idx in range(len(y)):\n",
    "    \n",
    "    #Prediction on both Models\n",
    "    EFDT_pred = EFDT_model.predict(X[idx])\n",
    "    HAT_pred = HAT_model.predict(X[idx])\n",
    "    EFHAT_pred = HAT_model.predict(X[idx])\n",
    "    \n",
    "    \n",
    "    #Check the accruracy of the models\n",
    "    if EFDT_pred != y[idx]:\n",
    "        EFDT_errors_count += 1\n",
    "        \n",
    "    if HAT_pred != y[idx]:\n",
    "        HAT_errors_count += 1\n",
    "        \n",
    "    if EFHAT_pred != y[idx]:\n",
    "        EFHAT_errors_count += 1\n",
    "        \n",
    "    # Calculate Error Rate\n",
    "    if idx > 10000:\n",
    "        EFDT_error_rate = EFDT_errors_count / (idx + 1)\n",
    "        EFDT_error_rates.append([idx, EFDT_error_rate])\n",
    "        \n",
    "        HAT_error_rate = HAT_errors_count / (idx + 1)\n",
    "        HAT_error_rates.append([idx, HAT_error_rate])\n",
    "        \n",
    "        EFHAT_error_rate = EFHAT_errors_count / (idx + 1)\n",
    "        EFHAT_error_rates.append([idx, EFHAT_error_rate])\n",
    "    \n",
    "    # Print Every 10000 Iterations\n",
    "    if idx % 10000 == 0:\n",
    "        print(f'Instance: {idx}')\n",
    "    \n",
    "    # Fit the data point into the tree\n",
    "    EFDT_model._fit_single(X[idx], y[idx])\n",
    "    HAT_model._fit_single(X[idx], y[idx])\n",
    "    EFHAT_model._fit_single(X[idx], y[idx])"
   ]
  },
  {
   "cell_type": "markdown",
   "metadata": {},
   "source": [
    "## Display the Results"
   ]
  },
  {
   "cell_type": "code",
   "execution_count": null,
   "metadata": {},
   "outputs": [],
   "source": [
    "import matplotlib.pyplot as plt\n",
    "\n",
    "# Splitting the list into two lists, idxs and errors\n",
    "EFDT_idxs, EFDT_errors = zip(*EFDT_error_rates)\n",
    "HAT_idxs, HAT_errors = zip(*HAT_error_rates)\n",
    "EFHAT_idxs, EFHAT_errors = zip(*EFHAT_error_rates)\n",
    "\n",
    "# Plotting\n",
    "plt.figure(figsize=(10, 6))  \n",
    "plt.plot(EFDT_idxs, EFDT_errors, marker='o', linestyle='-', color='b') \n",
    "plt.plot(HAT_idxs, HAT_errors, marker='o', linestyle='-', color='g') \n",
    "plt.plot(EFHAT_idxs, EFHAT_errors, marker='o', linestyle='-', color='r') \n",
    "plt.title('Error Rate vs Instance')\n",
    "plt.xlabel('Instance')\n",
    "plt.ylabel('Error Rate')\n",
    "plt.grid(True)\n",
    "plt.show()"
   ]
  }
 ],
 "metadata": {
  "kernelspec": {
   "display_name": ".venv",
   "language": "python",
   "name": "python3"
  },
  "language_info": {
   "codemirror_mode": {
    "name": "ipython",
    "version": 3
   },
   "file_extension": ".py",
   "mimetype": "text/x-python",
   "name": "python",
   "nbconvert_exporter": "python",
   "pygments_lexer": "ipython3",
   "version": "3.11.3"
  }
 },
 "nbformat": 4,
 "nbformat_minor": 2
}
